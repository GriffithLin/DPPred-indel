{
 "cells": [
  {
   "cell_type": "code",
   "execution_count": 1,
   "id": "60cdbace",
   "metadata": {},
   "outputs": [
    {
     "name": "stderr",
     "output_type": "stream",
     "text": [
      "/data3/linming/.conda/envs/fan/lib/python3.7/site-packages/tqdm/auto.py:21: TqdmWarning: IProgress not found. Please update jupyter and ipywidgets. See https://ipywidgets.readthedocs.io/en/stable/user_install.html\n",
      "  from .autonotebook import tqdm as notebook_tqdm\n"
     ]
    },
    {
     "data": {
      "text/html": [
       "<div>\n",
       "<style scoped>\n",
       "    .dataframe tbody tr th:only-of-type {\n",
       "        vertical-align: middle;\n",
       "    }\n",
       "\n",
       "    .dataframe tbody tr th {\n",
       "        vertical-align: top;\n",
       "    }\n",
       "\n",
       "    .dataframe thead th {\n",
       "        text-align: right;\n",
       "    }\n",
       "</style>\n",
       "<table border=\"1\" class=\"dataframe\">\n",
       "  <thead>\n",
       "    <tr style=\"text-align: right;\">\n",
       "      <th></th>\n",
       "      <th>dna</th>\n",
       "      <th>Protein_Sequence</th>\n",
       "    </tr>\n",
       "  </thead>\n",
       "  <tbody>\n",
       "    <tr>\n",
       "      <th>0</th>\n",
       "      <td>1_1534010_CAGA_C</td>\n",
       "      <td>MSWLFGINKGPKGEGAGPPPPLPPAQPGAEGGGDRGLGDRPAPKDK...</td>\n",
       "    </tr>\n",
       "    <tr>\n",
       "      <th>1</th>\n",
       "      <td>1_8361034_GGGGATGTGGCGA_G</td>\n",
       "      <td>MFKPVKEEDDGLSGKHSMRTRRSRGSMSTLRSGRKKQPASPDGRTS...</td>\n",
       "    </tr>\n",
       "    <tr>\n",
       "      <th>2</th>\n",
       "      <td>1_12001402_T_TGCG</td>\n",
       "      <td>MSLLFSRCNSIVTVKKNKRHMAEVNASPLKHFVTAKKKINGIFEQL...</td>\n",
       "    </tr>\n",
       "    <tr>\n",
       "      <th>3</th>\n",
       "      <td>1_17024026_G_GGCAGCTGGTGCT</td>\n",
       "      <td>MAAVVALSLRRRLPATTLGGACLQASRGAQTAAATAPRIKKFAIYR...</td>\n",
       "    </tr>\n",
       "    <tr>\n",
       "      <th>4</th>\n",
       "      <td>1_21577482_TGCTGCACGGCGTCCACGA_T</td>\n",
       "      <td>MPWSFRSSTPTWLRMSSCSWEMTYNTNAQVPDSAGTATAYLCGVKA...</td>\n",
       "    </tr>\n",
       "    <tr>\n",
       "      <th>...</th>\n",
       "      <td>...</td>\n",
       "      <td>...</td>\n",
       "    </tr>\n",
       "    <tr>\n",
       "      <th>1255</th>\n",
       "      <td>X_153935318_C_CGGGGGA</td>\n",
       "      <td>MSKGLPARQDMEKERETLQAWKERVGQELDRVVAFWMEHSHDQEHG...</td>\n",
       "    </tr>\n",
       "    <tr>\n",
       "      <th>1256</th>\n",
       "      <td>X_153950407_G_GCCAGCTGGGCCGGGGTGGAGC</td>\n",
       "      <td>MASAVSPANLPAVLLQPRWKRVVGWSGPVPRPRHGHRAVAIKELIV...</td>\n",
       "    </tr>\n",
       "    <tr>\n",
       "      <th>1257</th>\n",
       "      <td>X_154030493_CGTGGCGGCG_C</td>\n",
       "      <td>MAAAAAAAPSGGGGGGEEERLEEKSEDQDLQGLKDKPLKFKKVKKD...</td>\n",
       "    </tr>\n",
       "    <tr>\n",
       "      <th>1258</th>\n",
       "      <td>X_154030630_TGGGGTCCTCGGAGCTCTC_T</td>\n",
       "      <td>MVAGMLGLREEKSEDQDLQGLKDKPLKFKKVKKDKKEEKEGKHEPV...</td>\n",
       "    </tr>\n",
       "    <tr>\n",
       "      <th>1259</th>\n",
       "      <td>X_154030648_CGGGCTCAGGTGGAGGTGG_C</td>\n",
       "      <td>MVAGMLGLREEKSEDQDLQGLKDKPLKFKKVKKDKKEEKEGKHEPV...</td>\n",
       "    </tr>\n",
       "  </tbody>\n",
       "</table>\n",
       "<p>1260 rows × 2 columns</p>\n",
       "</div>"
      ],
      "text/plain": [
       "                                       dna  \\\n",
       "0                         1_1534010_CAGA_C   \n",
       "1                1_8361034_GGGGATGTGGCGA_G   \n",
       "2                        1_12001402_T_TGCG   \n",
       "3               1_17024026_G_GGCAGCTGGTGCT   \n",
       "4         1_21577482_TGCTGCACGGCGTCCACGA_T   \n",
       "...                                    ...   \n",
       "1255                 X_153935318_C_CGGGGGA   \n",
       "1256  X_153950407_G_GCCAGCTGGGCCGGGGTGGAGC   \n",
       "1257              X_154030493_CGTGGCGGCG_C   \n",
       "1258     X_154030630_TGGGGTCCTCGGAGCTCTC_T   \n",
       "1259     X_154030648_CGGGCTCAGGTGGAGGTGG_C   \n",
       "\n",
       "                                       Protein_Sequence  \n",
       "0     MSWLFGINKGPKGEGAGPPPPLPPAQPGAEGGGDRGLGDRPAPKDK...  \n",
       "1     MFKPVKEEDDGLSGKHSMRTRRSRGSMSTLRSGRKKQPASPDGRTS...  \n",
       "2     MSLLFSRCNSIVTVKKNKRHMAEVNASPLKHFVTAKKKINGIFEQL...  \n",
       "3     MAAVVALSLRRRLPATTLGGACLQASRGAQTAAATAPRIKKFAIYR...  \n",
       "4     MPWSFRSSTPTWLRMSSCSWEMTYNTNAQVPDSAGTATAYLCGVKA...  \n",
       "...                                                 ...  \n",
       "1255  MSKGLPARQDMEKERETLQAWKERVGQELDRVVAFWMEHSHDQEHG...  \n",
       "1256  MASAVSPANLPAVLLQPRWKRVVGWSGPVPRPRHGHRAVAIKELIV...  \n",
       "1257  MAAAAAAAPSGGGGGGEEERLEEKSEDQDLQGLKDKPLKFKKVKKD...  \n",
       "1258  MVAGMLGLREEKSEDQDLQGLKDKPLKFKKVKKDKKEEKEGKHEPV...  \n",
       "1259  MVAGMLGLREEKSEDQDLQGLKDKPLKFKKVKKDKKEEKEGKHEPV...  \n",
       "\n",
       "[1260 rows x 2 columns]"
      ]
     },
     "execution_count": 1,
     "metadata": {},
     "output_type": "execute_result"
    }
   ],
   "source": [
    "import torch\n",
    "import esm\n",
    "import pandas as pd\n",
    "\n",
    "# Load ESM-2 model\n",
    "model, alphabet = esm.pretrained.esm2_t33_650M_UR50D()\n",
    "batch_converter = alphabet.get_batch_converter()\n",
    "model.eval()  # disables dropout for deterministic results\n",
    "\n",
    "data_test_file = \"./dataset/protein/test.csv\"\n",
    "data_test_ori = pd.read_csv(data_test_file, sep=\"\\t\")\n",
    "data_test = data_test_ori[[\"dna\", \"Protein_Sequence\"]]\n",
    "data_test"
   ]
  },
  {
   "cell_type": "code",
   "execution_count": 2,
   "id": "83460888",
   "metadata": {},
   "outputs": [
    {
     "data": {
      "text/plain": [
       "tensor([[ 0, 20, 15, 11,  7, 10, 16,  9, 10,  4, 15,  8, 12,  7, 10, 12,  4,  9,\n",
       "         10,  8, 15,  9, 14,  7,  8,  6,  5, 16,  4,  5,  9,  9,  4,  8,  7,  8,\n",
       "         10, 16,  7, 12,  7, 16, 13, 12,  5, 19,  4, 10,  8,  4,  6, 19, 17, 12,\n",
       "          7,  5, 11, 14, 10,  6, 19,  7,  4,  5,  6,  6,  2,  1,  1,  1,  1,  1,\n",
       "          1],\n",
       "        [ 0, 15,  5,  4, 11,  5, 10, 16, 16,  9,  7, 18, 13,  4, 12, 10, 13, 21,\n",
       "         12,  8, 16, 11,  6, 20, 14, 14, 11, 10,  5,  9, 12,  5, 16, 10,  4,  6,\n",
       "         18, 10,  8, 14, 17,  5,  5,  9,  9, 21,  4, 15,  5,  4,  5, 10, 15,  6,\n",
       "          7, 12,  9, 12,  7,  8,  6,  5,  8, 10,  6, 12, 10,  4,  4, 16,  9,  9,\n",
       "          2],\n",
       "        [ 0, 15,  5,  4, 11,  5, 10, 16, 16,  9,  7, 18, 13,  4, 12, 10, 13, 32,\n",
       "         12,  8, 16, 11,  6, 20, 14, 14, 11, 10,  5,  9, 12,  5, 16, 10,  4,  6,\n",
       "         18, 10,  8, 14, 17,  5,  5,  9,  9, 21,  4, 15,  5,  4,  5, 10, 15,  6,\n",
       "          7, 12,  9, 12,  7,  8,  6,  5,  8, 10,  6, 12, 10,  4,  4, 16,  9,  9,\n",
       "          2],\n",
       "        [ 0, 15,  5, 32, 12,  8, 16,  2,  1,  1,  1,  1,  1,  1,  1,  1,  1,  1,\n",
       "          1,  1,  1,  1,  1,  1,  1,  1,  1,  1,  1,  1,  1,  1,  1,  1,  1,  1,\n",
       "          1,  1,  1,  1,  1,  1,  1,  1,  1,  1,  1,  1,  1,  1,  1,  1,  1,  1,\n",
       "          1,  1,  1,  1,  1,  1,  1,  1,  1,  1,  1,  1,  1,  1,  1,  1,  1,  1,\n",
       "          1]])"
      ]
     },
     "execution_count": 2,
     "metadata": {},
     "output_type": "execute_result"
    }
   ],
   "source": [
    "# Prepare data (first 2 sequences from ESMStructuralSplitDataset superfamily / 4)\n",
    "data = [\n",
    "    (\"protein1\", \"MKTVRQERLKSIVRILERSKEPVSGAQLAEELSVSRQVIVQDIAYLRSLGYNIVATPRGYVLAGG\"),\n",
    "    (\"protein2\", \"KALTARQQEVFDLIRDHISQTGMPPTRAEIAQRLGFRSPNAAEEHLKALARKGVIEIVSGASRGIRLLQEE\"),\n",
    "    (\"protein2 with mask\",\"KALTARQQEVFDLIRD<mask>ISQTGMPPTRAEIAQRLGFRSPNAAEEHLKALARKGVIEIVSGASRGIRLLQEE\"),\n",
    "    (\"protein3\",  \"K A <mask> I S Q\"),\n",
    "]\n",
    "batch_labels, batch_strs, batch_tokens = batch_converter(data)\n",
    "batch_tokens"
   ]
  },
  {
   "cell_type": "code",
   "execution_count": 3,
   "id": "9128afd4",
   "metadata": {},
   "outputs": [],
   "source": [
    "batch_lens = (batch_tokens != alphabet.padding_idx).sum(1)\n",
    "\n",
    "# Extract per-residue representations (on CPU)\n",
    "with torch.no_grad():\n",
    "    results = model(batch_tokens, repr_layers=[33], return_contacts=True)\n",
    "token_representations = results[\"representations\"][33]\n",
    "\n",
    "# Generate per-sequence representations via averaging\n",
    "# NOTE: token 0 is always a beginning-of-sequence token, so the first residue is token 1.\n",
    "sequence_representations = []\n",
    "for i, tokens_len in enumerate(batch_lens):\n",
    "    sequence_representations.append(token_representations[i, 1 : tokens_len - 1].mean(0))\n",
    "\n",
    "# # Look at the unsupervised self-attention map contact predictions\n",
    "# import matplotlib.pyplot as plt\n",
    "# for (_, seq), tokens_len, attention_contacts in zip(data, batch_lens, results[\"contacts\"]):\n",
    "#     plt.matshow(attention_contacts[: tokens_len, : tokens_len])\n",
    "#     plt.title(seq)\n",
    "#     plt.show()"
   ]
  },
  {
   "cell_type": "code",
   "execution_count": 4,
   "id": "c616ad89",
   "metadata": {},
   "outputs": [
    {
     "data": {
      "text/plain": [
       "[tensor([ 0.0614, -0.0687,  0.0430,  ..., -0.1642, -0.0678,  0.0446]),\n",
       " tensor([ 0.0553, -0.0757,  0.0414,  ..., -0.3117, -0.0026,  0.1683]),\n",
       " tensor([ 0.0618, -0.0769,  0.0405,  ..., -0.3037, -0.0013,  0.1741]),\n",
       " tensor([ 0.0084,  0.1425,  0.0506,  ...,  0.0403, -0.1063,  0.0079])]"
      ]
     },
     "execution_count": 4,
     "metadata": {},
     "output_type": "execute_result"
    }
   ],
   "source": [
    "sequence_representations"
   ]
  },
  {
   "cell_type": "code",
   "execution_count": null,
   "id": "46b12929",
   "metadata": {},
   "outputs": [],
   "source": []
  }
 ],
 "metadata": {
  "kernelspec": {
   "display_name": "fan",
   "language": "python",
   "name": "fan"
  },
  "language_info": {
   "codemirror_mode": {
    "name": "ipython",
    "version": 3
   },
   "file_extension": ".py",
   "mimetype": "text/x-python",
   "name": "python",
   "nbconvert_exporter": "python",
   "pygments_lexer": "ipython3",
   "version": "3.7.0"
  }
 },
 "nbformat": 4,
 "nbformat_minor": 5
}
